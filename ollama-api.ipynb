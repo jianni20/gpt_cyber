{
 "cells": [
  {
   "cell_type": "markdown",
   "metadata": {},
   "source": [
    "# Sending API Requests and Handling Responses"
   ]
  },
  {
   "cell_type": "code",
   "execution_count": 3,
   "metadata": {},
   "outputs": [
    {
     "data": {
      "text/plain": [
       "True"
      ]
     },
     "execution_count": 3,
     "metadata": {},
     "output_type": "execute_result"
    }
   ],
   "source": [
    "from ollama import Client\n",
    "import os\n",
    "from dotenv import load_dotenv\n",
    "\n",
    "# Load environment variables from .env file\n",
    "load_dotenv()"
   ]
  },
  {
   "cell_type": "code",
   "execution_count": 4,
   "metadata": {},
   "outputs": [
    {
     "name": "stdout",
     "output_type": "stream",
     "text": [
      "In encryption, symmetry refers to whether the same key is used for both encrypting and decrypting data. In other words, if a key is used only once (either for encryption or decryption), it's considered asymmetric; if the same key is used for both operations, it's considered symmetric.\n",
      "\n",
      "**Symmetric Encryption**\n",
      "\n",
      "In symmetric encryption:\n",
      "\n",
      "1. **Single key**: The same secret key is used for both encrypting and decrypting data.\n",
      "2. **Fast and efficient**: Symmetric algorithms are generally faster than asymmetric ones since they don't require complex computations or key pair generation.\n",
      "3. **Less secure**: However, the single key is a potential security risk if it falls into the wrong hands, as an attacker could use it to decrypt all encrypted data.\n",
      "\n",
      "Examples of symmetric encryption algorithms:\n",
      "\n",
      "* AES (Advanced Encryption Standard)\n",
      "* DES (Data Encryption Standard)\n",
      "\n",
      "**Asymmetric Encryption**\n",
      "\n",
      "In asymmetric encryption:\n",
      "\n",
      "1. **Key pairs**: Two distinct keys are used: a public key for encrypting and a private key for decrypting.\n",
      "2. **Slower**: Asymmetric algorithms are generally slower than symmetric ones due to the need to perform complex mathematical operations, such as factoring large numbers or computing discrete logarithms.\n",
      "3. **More secure**: The separation of keys reduces the risk of unauthorized access, as an attacker would need both public and private keys to decrypt data.\n",
      "\n",
      "Examples of asymmetric encryption algorithms:\n",
      "\n",
      "* RSA (Rivest-Shamir-Adleman)\n",
      "* Elliptic Curve Cryptography (ECC)\n",
      "\n",
      "Key differences between symmetric and asymmetric encryption:\n",
      "\n",
      "1. **Key usage**: Symmetric encryption uses a single key for both encryption and decryption, while asymmetric encryption uses separate keys for these operations.\n",
      "2. **Speed**: Symmetric algorithms are generally faster than asymmetric ones.\n",
      "3. **Security**: Asymmetric encryption provides higher security due to the separation of keys.\n",
      "\n",
      "When to use each:\n",
      "\n",
      "* Use symmetric encryption when:\n",
      "\t+ Speed is critical (e.g., encrypting large datasets).\n",
      "\t+ The data being encrypted is sensitive, but not extremely sensitive (e.g., storing passwords).\n",
      "* Use asymmetric encryption when:\n",
      "\t+ Higher security is required (e.g., securing online transactions or encrypting sensitive data).\n",
      "\t+ Key exchange and management are simpler due to the use of public-private key pairs.\n",
      "\n",
      "In summary, symmetric encryption uses a single key for both encryption and decryption, while asymmetric encryption uses separate keys. Symmetric encryption is generally faster but less secure, whereas asymmetric encryption is slower but more secure."
     ]
    }
   ],
   "source": [
    "client = Client(host=os.getenv(\"OLLAMA_CHAT\"))\n",
    "response = client.chat(\n",
    "    model='llama3',\n",
    "    messages=[{'role': 'user', 'content': 'Explain the difference between symmetric and asymmetric encryption.'}],\n",
    "    stream=True\n",
    ")\n",
    "\n",
    "for chunk in response:\n",
    "    print(chunk['message']['content'], end='', flush=True)"
   ]
  },
  {
   "cell_type": "markdown",
   "metadata": {},
   "source": [
    "# Using Files for Prompts"
   ]
  },
  {
   "cell_type": "code",
   "execution_count": null,
   "metadata": {},
   "outputs": [],
   "source": [
    "from ollama import Client\n",
    "import os\n",
    "from dotenv import load_dotenv\n",
    "\n",
    "# Load environment variables from .env file\n",
    "load_dotenv()"
   ]
  },
  {
   "cell_type": "code",
   "execution_count": null,
   "metadata": {},
   "outputs": [],
   "source": [
    "def open_file(filepath):\n",
    "    with open(filepath, 'r', encoding='UTF-8') as infile:\n",
    "        return infile.read()\n",
    "\n",
    "prompt=open_file(\"prompts.txt\")"
   ]
  },
  {
   "cell_type": "code",
   "execution_count": null,
   "metadata": {},
   "outputs": [],
   "source": [
    "client = Client(host=os.getenv(\"OLLAMA_CHAT\"))\n",
    "response = client.chat(\n",
    "    model='llama3',\n",
    "    messages=[{'role': 'user', 'content': prompt}],\n",
    "    stream=True\n",
    ")\n",
    "\n",
    "for chunk in response:\n",
    "    print(chunk['message']['content'], end='', flush=True)"
   ]
  },
  {
   "cell_type": "markdown",
   "metadata": {},
   "source": [
    "# Using Prompt Variables"
   ]
  },
  {
   "cell_type": "code",
   "execution_count": null,
   "metadata": {},
   "outputs": [],
   "source": [
    "from ollama import Client\n",
    "import os\n",
    "from dotenv import load_dotenv\n",
    "\n",
    "load_dotenv()"
   ]
  },
  {
   "cell_type": "code",
   "execution_count": null,
   "metadata": {},
   "outputs": [],
   "source": [
    "def open_file(filepath):\n",
    "    with open(filepath, 'r', encoding='UTF-8') as infile:\n",
    "        return infile.read()\n",
    "\n",
    "feed = input(\"ManPageGPT> $ Enter the name of a tool: \")\n",
    "prompt = open_file(\"prompt_var.txt\").replace('<<INPUT>>', feed)"
   ]
  },
  {
   "cell_type": "code",
   "execution_count": null,
   "metadata": {},
   "outputs": [],
   "source": [
    "client = Client(host=os.getenv(\"OLLAMA_CHAT\"))\n",
    "response = client.chat(\n",
    "    model='llama3',\n",
    "    messages=[{'role': 'user', 'content': prompt}],\n",
    "    stream=True\n",
    ")\n",
    "\n",
    "for chunk in response:\n",
    "    print(chunk['message']['content'], end='', flush=True)"
   ]
  }
 ],
 "metadata": {
  "kernelspec": {
   "display_name": "gpt_cyber",
   "language": "python",
   "name": "python3"
  },
  "language_info": {
   "codemirror_mode": {
    "name": "ipython",
    "version": 3
   },
   "file_extension": ".py",
   "mimetype": "text/x-python",
   "name": "python",
   "nbconvert_exporter": "python",
   "pygments_lexer": "ipython3",
   "version": "3.11.9"
  }
 },
 "nbformat": 4,
 "nbformat_minor": 2
}
