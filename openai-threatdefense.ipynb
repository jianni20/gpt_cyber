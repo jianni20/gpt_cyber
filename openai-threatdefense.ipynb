{
 "cells": [
  {
   "cell_type": "markdown",
   "metadata": {},
   "source": [
    "# Threat Intelligence Analysis"
   ]
  },
  {
   "cell_type": "code",
   "execution_count": null,
   "metadata": {},
   "outputs": [],
   "source": [
    "import openai\n",
    "from openai import OpenAI\n",
    "import os\n",
    "\n",
    "openai.api_key = os.getenv(\"OPENAI_API_KEY\")"
   ]
  },
  {
   "cell_type": "code",
   "execution_count": null,
   "metadata": {},
   "outputs": [],
   "source": [
    "def call_gpt(prompt):\n",
    "    messages = [\n",
    "        {\n",
    "            \"role\": \"system\",\n",
    "            \"content\": \"You are a cybersecurity SOC analyst with more than 25 years of experience.\"\n",
    "        },\n",
    "        {\n",
    "            \"role\": \"user\",\n",
    "            \"content\": prompt\n",
    "        }\n",
    "    ]\n",
    "    client = OpenAI()\n",
    "    response = client.chat.completions.create(\n",
    "        model='gpt-4o',\n",
    "        messages=messages,\n",
    "        max_tokens=2048,\n",
    "        n=1,\n",
    "        stop=None,\n",
    "        temperature=0.7\n",
    "    )\n",
    "    return response.choices[0].message.content"
   ]
  },
  {
   "cell_type": "code",
   "execution_count": null,
   "metadata": {},
   "outputs": [],
   "source": [
    "def analyze_threat_data(file_path):\n",
    "    # Read the raw threat data from the provided file\n",
    "    with open(file_path, 'r') as file:\n",
    "        raw_data = file.read()\n",
    "    # Query ChatGPT to identify and categorize potential threats\n",
    "    identified_threats = call_gpt(f\"Analyze the following threat data and identify potential threats: {raw_data}\")\n",
    "    # Extract IoCs from the threat data\n",
    "    extracted_iocs = call_gpt(f\"Extract all indicators of compromise (IoCs) from the following threat data: {raw_data}\")\n",
    "    # Obtain a detailed context or narrative behind the identified threats\n",
    "    threat_context = call_gpt(f\"Provide a detailed context or narrative behind the identified threats in this data: {raw_data}\")\n",
    "    # Print the results\n",
    "    print(\"Identified Threats:\", identified_threats)\n",
    "    print(\"\\nExtracted IoCs:\", extracted_iocs)\n",
    "    print(\"\\nThreat Context:\", threat_context)"
   ]
  },
  {
   "cell_type": "code",
   "execution_count": null,
   "metadata": {},
   "outputs": [],
   "source": [
    "if __name__ == \"__main__\":\n",
    "    file_path = input(\"Enter the path to the raw threat data .txt file: \")\n",
    "    analyze_threat_data(file_path)"
   ]
  }
 ],
 "metadata": {
  "kernelspec": {
   "display_name": "gpt-cyber",
   "language": "python",
   "name": "python3"
  },
  "language_info": {
   "codemirror_mode": {
    "name": "ipython",
    "version": 3
   },
   "file_extension": ".py",
   "mimetype": "text/x-python",
   "name": "python",
   "nbconvert_exporter": "python",
   "pygments_lexer": "ipython3",
   "version": "3.11.9"
  }
 },
 "nbformat": 4,
 "nbformat_minor": 2
}
