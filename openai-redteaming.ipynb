{
 "cells": [
  {
   "cell_type": "markdown",
   "metadata": {},
   "source": [
    "# Creating Red Team Scenarios"
   ]
  },
  {
   "cell_type": "code",
   "execution_count": null,
   "metadata": {},
   "outputs": [],
   "source": [
    "import openai\n",
    "from openai import OpenAI\n",
    "import os\n",
    "from dotenv import load_dotenv\n",
    "from mitreattack.stix20 import MitreAttackData\n",
    "\n",
    "# Load environment variables from .env file\n",
    "load_dotenv()\n",
    "\n",
    "openai.api_key = os.getenv(\"OPENAI_API_KEY\")\n",
    "mitre_attack_data = MitreAttackData(\"enterprise-attack.json\")"
   ]
  },
  {
   "cell_type": "code",
   "execution_count": null,
   "metadata": {},
   "outputs": [],
   "source": [
    "# Extract keywords from the description\n",
    "def extract_keywords_from_description(description):\n",
    "    # Define the merged prompt\n",
    "    prompt = (f\"Given the cybersecurity scenario description: '{description}', identify and list the key terms, \"\n",
    "              \"techniques, or technologies relevant to MITRE ATT&CK. Extract TTPs from the scenario. \"\n",
    "              \"If the description is too basic, expand upon it with additional details, applicable campaign, \"\n",
    "              \"or attack types based on dataset knowledge. Then, extract the TTPs from the revised description.\")\n",
    "    # Set up the messages for the OpenAI API\n",
    "    messages = [\n",
    "        {\n",
    "            \"role\": \"system\",\n",
    "            \"content\": \"You are a cybersecurity professional with more than 25 years of experience.\"\n",
    "        },\n",
    "        {\n",
    "            \"role\": \"user\",\n",
    "            \"content\": prompt\n",
    "        }\n",
    "    ]\n",
    "    # Make the API call\n",
    "    try:\n",
    "        client = OpenAI()\n",
    "        response = client.chat.completions.create(\n",
    "            model=\"gpt-3.5-turbo\",\n",
    "            messages=messages,\n",
    "            max_tokens=2048,\n",
    "            n=1,\n",
    "            stop=None,\n",
    "            temperature=0.7\n",
    "        )\n",
    "        response_content = response.choices[0].message.content.strip()\n",
    "        keywords = response_content.split(', ')\n",
    "        return keywords\n",
    "    except Exception as e:\n",
    "        print(\"An error occurred while connecting to the OpenAI API:\", e)\n",
    "        return []"
   ]
  },
  {
   "cell_type": "code",
   "execution_count": null,
   "metadata": {},
   "outputs": [],
   "source": [
    "# Search the ATT&Ck dataset for extracted keywords\n",
    "def score_matches(matches, keywords):\n",
    "    scores = []\n",
    "    for match in matches:\n",
    "        score = sum([keyword in match['name'] for keyword in keywords]) + \\\n",
    "                sum([keyword in match['description'] for keyword in keywords])\n",
    "        scores.append((match, score))\n",
    "    return scores\n",
    "def search_dataset_for_matches(keywords):\n",
    "    matches = []\n",
    "    for item in mitre_attack_data.get_techniques():\n",
    "        if any(keyword in item['name'] for keyword in keywords):\n",
    "            matches.append(item)\n",
    "        elif 'description' in item and any(keyword in item['description'] for keyword in keywords):\n",
    "            matches.append(item)\n",
    "    return matches"
   ]
  },
  {
   "cell_type": "code",
   "execution_count": null,
   "metadata": {},
   "outputs": [],
   "source": [
    "# Generate a comprehensive scenario\n",
    "def generate_ttp_chain(match):\n",
    "    # Create a prompt for GPT-3 to generate a TTP chain for the provided match\n",
    "    prompt = (f\"Given the MITRE ATT&CK technique '{match['name']}' and its description '{match['description']}', \"\n",
    "              \"generate an example scenario and TTP chain demonstrating its use.\")\n",
    "    # Set up the messages for the OpenAI API\n",
    "    messages = [\n",
    "        {\n",
    "            \"role\": \"system\",\n",
    "            \"content\": \"You are a cybersecurity professional with expertise in MITRE ATT&CK techniques.\"\n",
    "        },\n",
    "        {\n",
    "            \"role\": \"user\",\n",
    "            \"content\": prompt\n",
    "        }\n",
    "    ]\n",
    "    # Make the API call\n",
    "    try:\n",
    "        client = OpenAI()\n",
    "        response = client.chat.completions.create(\n",
    "            model=\"gpt-3.5-turbo\",\n",
    "            messages=messages,\n",
    "            max_tokens=2048,\n",
    "            n=1,\n",
    "            stop=None,\n",
    "            temperature=0.7\n",
    "        )\n",
    "        response_content = response.choices[0].message.content.strip()\n",
    "        return response_content\n",
    "    except Exception as e:\n",
    "        print(\"An error occurred while generating the TTP chain:\", e)\n",
    "        return \"Unable to generate TTP chain.\""
   ]
  },
  {
   "cell_type": "code",
   "execution_count": null,
   "metadata": {},
   "outputs": [],
   "source": [
    "description = input(\"Enter your scenario description: \")\n",
    "keywords = extract_keywords_from_description(description)\n",
    "matches = search_dataset_for_matches(keywords)\n",
    "scored_matches = score_matches(matches, keywords)\n",
    "# Sort by score in descending order and take the top 3\n",
    "top_matches = sorted(scored_matches, key=lambda x: x[1], reverse=True)[:3]\n",
    "print(\"Writing top 3 matches from the MITRE ATT&CK dataset:\")\n",
    "with open(\"openai_red_team_scenarios.txt\", \"w\") as file:\n",
    "    for match, score in top_matches:\n",
    "        file.write(\"Name:\" + match['name'] +\"\\n\")\n",
    "        file.write(\"Summary:\" + match['description'] + \"\\n\")\n",
    "        ttp_chain = generate_ttp_chain(match)\n",
    "        file.write(\"Example Scenario and TTP Chain:\" + ttp_chain + \"\\n\")\n",
    "        file.write(\"-\" * 50 + \"\\n\")\n",
    "\n"
   ]
  }
 ],
 "metadata": {
  "kernelspec": {
   "display_name": "gpt-cyber",
   "language": "python",
   "name": "python3"
  },
  "language_info": {
   "codemirror_mode": {
    "name": "ipython",
    "version": 3
   },
   "file_extension": ".py",
   "mimetype": "text/x-python",
   "name": "python",
   "nbconvert_exporter": "python",
   "pygments_lexer": "ipython3",
   "version": "3.11.9"
  }
 },
 "nbformat": 4,
 "nbformat_minor": 2
}
