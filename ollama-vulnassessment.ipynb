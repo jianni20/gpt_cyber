{
 "cells": [
  {
   "cell_type": "markdown",
   "metadata": {},
   "source": [
    "# Threat Assessment"
   ]
  },
  {
   "cell_type": "code",
   "execution_count": 2,
   "metadata": {},
   "outputs": [],
   "source": [
    "from ollama import Client\n",
    "import os\n",
    "from docx import Document\n",
    "from tqdm import tqdm\n",
    "import threading\n",
    "import time\n"
   ]
  },
  {
   "cell_type": "code",
   "execution_count": 3,
   "metadata": {},
   "outputs": [],
   "source": [
    "# Function to generate a report using the OpenAI API\n",
    "def generate_report(threat_name: str) -> str:\n",
    "    # Define the conversation messages\n",
    "    messages = [\n",
    "        {\"role\": \"system\", \"content\": \"You are a professional cyber threat analyst and MITRE ATT&CK Framework expert.\"},\n",
    "        {\"role\": \"user\", \"content\": f'Provide a detailed report about {threat_name}, using the following template (and proper markdown language formatting, headings, bold keywords, tables, etc.):\\n\\n\\\n",
    "        Threat Name (Heading 1)\\n\\n\\\n",
    "        Summary (Heading 2)\\n\\\n",
    "        Short executive summary\\n\\n\\\n",
    "        Details (Heading 2)\\n\\\n",
    "        Description and details including history/background, discovery, characteristics and TTPs, known incidents\\n\\n\\\n",
    "        MITRE ATT&CK TTPs (Heading 2)\\n\\\n",
    "        Table containing all of the known MITRE ATT&CK TTPs that the {threat_name} attack uses. Include the following columns: Tactic, Technique ID, Technique Name, Procedure (How {threat_name} uses it)\\n\\n\\\n",
    "        Indicators of Compromise (Heading 2)\\n\\\n",
    "        Table containing all of the known indicators of compromise. Include the following collumns: Type, Value, Description\\n\\n\\  '}\n",
    "    ]\n",
    "    options = {\n",
    "        \"temperature\": 0.1\n",
    "    }\n",
    "    # Make the API call\n",
    "    client = Client(host=os.getenv(\"OLLAMA_HOST\"))\n",
    "    response = client.chat(\n",
    "        model=\"llama3\",\n",
    "        messages=messages,\n",
    "        options=options,\n",
    "        stream=False            \n",
    "    )   \n",
    "    \n",
    "    # Return the generated text\n",
    "    return response['message']['content'].strip()"
   ]
  },
  {
   "cell_type": "code",
   "execution_count": 4,
   "metadata": {},
   "outputs": [],
   "source": [
    "# Function to convert markdown text to a Word document\n",
    "def markdown_to_docx(markdown_text: str, output_file: str):\n",
    "    document = Document()\n",
    "    # Variables to keep track of the current table\n",
    "    table = None\n",
    "    in_table = False\n",
    "    # Iterate through the lines of the markdown text\n",
    "    for line in markdown_text.split('\\n'):\n",
    "        # Add headings based on the markdown heading levels\n",
    "        if line.startswith('# '):\n",
    "            document.add_heading(line[2:], level=1)\n",
    "        elif line.startswith('## '):\n",
    "            document.add_heading(line[3:], level=2)\n",
    "        elif line.startswith('### '):\n",
    "            document.add_heading(line[4:], level=3)\n",
    "        elif line.startswith('#### '):\n",
    "            document.add_heading(line[5:], level=4)\n",
    "        # Handle tables in the markdown text\n",
    "        elif line.startswith('|'):\n",
    "            row = [cell.strip() for cell in line.split('|')[1:-1]]\n",
    "            if not in_table:\n",
    "                in_table = True\n",
    "                table = document.add_table(rows=1, cols=len(row), style='Table Grid')\n",
    "                for i, cell in enumerate(row):\n",
    "                    table.cell(0, i).text = cell\n",
    "            else:\n",
    "                if len(row) != len(table.columns):  # If row length doesn't match table, it's a separator\n",
    "                    continue\n",
    "                new_row = table.add_row()\n",
    "                for i, cell in enumerate(row):\n",
    "                    new_row.cells[i].text = cell\n",
    "        # Add paragraphs for other text\n",
    "        else:\n",
    "            if in_table:\n",
    "                in_table = False\n",
    "                table = None\n",
    "            document.add_paragraph(line)\n",
    "    # Save the Word document\n",
    "    document.save(output_file)"
   ]
  },
  {
   "cell_type": "code",
   "execution_count": 5,
   "metadata": {},
   "outputs": [],
   "source": [
    "# Function to extract tables from the markdown text\n",
    "def extract_tables(markdown_text: str):\n",
    "    tables = []\n",
    "    current_table = []\n",
    "    # Iterate through the lines of the markdown text\n",
    "    for line in markdown_text.split('\\n'):\n",
    "        # Check if the line is part of a table\n",
    "        if line.startswith('|'):\n",
    "            current_table.append(line)\n",
    "        # If the table ends, save it to the tables list\n",
    "        elif current_table:\n",
    "            tables.append('\\n'.join(current_table))\n",
    "            current_table = []\n",
    "    return tables"
   ]
  },
  {
   "cell_type": "code",
   "execution_count": 6,
   "metadata": {},
   "outputs": [
    {
     "name": "stdout",
     "output_type": "stream",
     "text": [
      "Communicating with the API - Elapsed time: 12.01 seconds"
     ]
    },
    {
     "name": "stderr",
     "output_type": "stream",
     "text": [
      "Generating report and files:   0%|          | 0/1 [00:00<?, ?it/s]"
     ]
    },
    {
     "name": "stdout",
     "output_type": "stream",
     "text": [
      "\n",
      "Report and tables generated successfully!\n"
     ]
    },
    {
     "name": "stderr",
     "output_type": "stream",
     "text": [
      "\n"
     ]
    }
   ],
   "source": [
    "# Function to display elapsed time while waiting for the API call\n",
    "def display_elapsed_time():\n",
    "    start_time = time.time()\n",
    "    while not api_call_completed:\n",
    "        elapsed_time = time.time() - start_time\n",
    "        print(f\"\\rCommunicating with the API - Elapsed time: {elapsed_time:.2f} seconds\", end=\"\")\n",
    "        time.sleep(1)\n",
    "# Get user input\n",
    "threat_name = input(\"Enter the name of a cyber threat: \")\n",
    "api_call_completed = False\n",
    "elapsed_time_thread = threading.Thread(target=display_elapsed_time)\n",
    "elapsed_time_thread.start()\n",
    "# Handle exceptions during the API call\n",
    "try:\n",
    "    # Generate the report using the OpenAI API\n",
    "    report = generate_report(threat_name)\n",
    "    api_call_completed = True\n",
    "    elapsed_time_thread.join()\n",
    "except Exception as e:\n",
    "    api_call_completed = True\n",
    "    elapsed_time_thread.join()\n",
    "    print(f\"\\nAn error occurred during the API call: {e}\")\n",
    "    exit()\n",
    "# Save the report as a Word document\n",
    "docx_output_file = f\"{threat_name}_report.docx\"\n",
    "# Handle exceptions during the report generation\n",
    "try:\n",
    "    with tqdm(total=1, desc=\"Generating report and files\") as pbar:\n",
    "        markdown_to_docx(report, docx_output_file)\n",
    "    print(\"\\nReport and tables generated successfully!\")\n",
    "except Exception as e:\n",
    "    print(f\"\\nAn error occurred during the report generation: {e}\")"
   ]
  }
 ],
 "metadata": {
  "kernelspec": {
   "display_name": "gpt-cyber",
   "language": "python",
   "name": "python3"
  },
  "language_info": {
   "codemirror_mode": {
    "name": "ipython",
    "version": 3
   },
   "file_extension": ".py",
   "mimetype": "text/x-python",
   "name": "python",
   "nbconvert_exporter": "python",
   "pygments_lexer": "ipython3",
   "version": "3.11.9"
  }
 },
 "nbformat": 4,
 "nbformat_minor": 2
}
