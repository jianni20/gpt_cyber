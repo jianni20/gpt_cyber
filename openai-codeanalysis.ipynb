{
 "cells": [
  {
   "cell_type": "markdown",
   "metadata": {},
   "source": [
    "# Source Code Analysis"
   ]
  },
  {
   "cell_type": "code",
   "execution_count": 1,
   "metadata": {},
   "outputs": [],
   "source": [
    "import openai\n",
    "from openai import OpenAI # New import required for the updated API call\n",
    "import os\n",
    "import ast\n",
    "from ast import NodeVisitor\n",
    "import threading\n",
    "import time\n",
    "\n",
    "# Set up the OpenAI API\n",
    "openai.api_key = os.getenv(\"OPENAI_API_KEY\")"
   ]
  },
  {
   "cell_type": "code",
   "execution_count": 2,
   "metadata": {},
   "outputs": [],
   "source": [
    "class CodeVisitor(NodeVisitor):\n",
    "    def __init__(self):\n",
    "        self.function_defs = []\n",
    "    def visit_FunctionDef(self, node):\n",
    "        self.function_defs.append(node.name)\n",
    "        self.generic_visit(node)"
   ]
  },
  {
   "cell_type": "code",
   "execution_count": 3,
   "metadata": {},
   "outputs": [],
   "source": [
    "def review_code(source_code: str) -> str:\n",
    "    messages = [\n",
    "        {\"role\": \"system\", \"content\": \"You are a seasoned security engineer with extensive experience in reviewing code for potential security vulnerabilities.\"},\n",
    "        {\"role\": \"user\", \"content\": f\"Please review the following Python code snippet. Identify any potential security flaws and then provide testing steps:\\n\\n{source_code}\"}\n",
    "    ]\n",
    "\n",
    "    client = OpenAI() # New client initialization required for the updated API call\n",
    "    \n",
    "    response = client.chat.completions.create(\n",
    "        model=\"gpt-4o\",\n",
    "        messages=messages,\n",
    "        max_tokens=2048,\n",
    "        n=1,\n",
    "        stop=None,\n",
    "        temperature=0.7,\n",
    "    )\n",
    "    return response.choices[0].message.content.strip() # Updated API call"
   ]
  },
  {
   "cell_type": "code",
   "execution_count": 4,
   "metadata": {},
   "outputs": [],
   "source": [
    "def generate_test_script(testing_steps: str, output_file: str):\n",
    "    with open(output_file, 'w') as file:\n",
    "        file.write(testing_steps)"
   ]
  },
  {
   "cell_type": "code",
   "execution_count": 5,
   "metadata": {},
   "outputs": [],
   "source": [
    "def display_elapsed_time():\n",
    "    start_time = time.time()\n",
    "    while not api_call_completed:\n",
    "        elapsed_time = time.time() - start_time\n",
    "        print(f\"\\rCommunicating with the API - Elapsed time: {elapsed_time:.2f} seconds\", end=\"\")\n",
    "        time.sleep(1)"
   ]
  },
  {
   "cell_type": "code",
   "execution_count": 6,
   "metadata": {},
   "outputs": [],
   "source": [
    "with open('source_code.py', 'r') as file:\n",
    "    source_code = file.read()"
   ]
  },
  {
   "cell_type": "code",
   "execution_count": 7,
   "metadata": {},
   "outputs": [
    {
     "name": "stdout",
     "output_type": "stream",
     "text": [
      "Communicating with the API - Elapsed time: 7.00 seconds"
     ]
    }
   ],
   "source": [
    "visitor = CodeVisitor()\n",
    "visitor.visit(ast.parse(source_code))\n",
    "\n",
    "api_call_completed = False\n",
    "elapsed_time_thread = threading.Thread(target=display_elapsed_time)\n",
    "elapsed_time_thread.start()\n",
    "\n",
    "# Handle exceptions during the API call\n",
    "try:\n",
    "    testing_steps = review_code(source_code)\n",
    "    api_call_completed = True\n",
    "    elapsed_time_thread.join()\n",
    "except Exception as e:\n",
    "    api_call_completed = True\n",
    "    elapsed_time_thread.join()\n",
    "    print(f\"\\nAn error occurred during the API call: {e}\")\n",
    "    exit()"
   ]
  },
  {
   "cell_type": "code",
   "execution_count": 8,
   "metadata": {},
   "outputs": [
    {
     "name": "stdout",
     "output_type": "stream",
     "text": [
      "\n",
      "Test script generated successfully!\n"
     ]
    }
   ],
   "source": [
    "# Save the testing steps as a Python test script\n",
    "test_script_output_file = \"test_script.txt\"\n",
    "\n",
    "# Handle exceptions during the test script generation\n",
    "try:\n",
    "    generate_test_script(testing_steps, test_script_output_file)\n",
    "    print(\"\\nTest script generated successfully!\")\n",
    "except Exception as e:\n",
    "    print(f\"\\nAn error occurred during the test script generation: {e}\")"
   ]
  }
 ],
 "metadata": {
  "kernelspec": {
   "display_name": "gpt-cyber",
   "language": "python",
   "name": "python3"
  },
  "language_info": {
   "codemirror_mode": {
    "name": "ipython",
    "version": 3
   },
   "file_extension": ".py",
   "mimetype": "text/x-python",
   "name": "python",
   "nbconvert_exporter": "python",
   "pygments_lexer": "ipython3",
   "version": "3.11.9"
  }
 },
 "nbformat": 4,
 "nbformat_minor": 2
}
